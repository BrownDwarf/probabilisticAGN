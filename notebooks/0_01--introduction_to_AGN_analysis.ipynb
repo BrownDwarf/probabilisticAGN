{
 "cells": [
  {
   "cell_type": "markdown",
   "metadata": {},
   "source": [
    "# 0. Introduction of K2, AGN, and time series\n",
    "## I. Introduction to AGN Analysis\n",
    "\n",
    "M. Gully-Santiago  \n",
    "Summer 2019  \n",
    "Kepler/K2 GO Office"
   ]
  },
  {
   "cell_type": "markdown",
   "metadata": {},
   "source": [
    "# Active Galactic Nucleus Lightcurve\n",
    "\n",
    "\n",
    "<img width=250 src=https://iopscience.iop.org/0004-637X/857/2/141/downloadFigure/figure/apjaab88df7 ></src>\n",
    "\n",
    "From K. Smith et al. 2018, Section 5:\n",
    "> The variability of AGN is a red noise process, meaning that successive samples are correlated in time. The power spectra of such processes are well described by a power law, where the spectral density S varies with the temporal frequency as:\n",
    "\n",
    "$$ S \\propto f^\\alpha$$\n",
    "\n",
    "\n",
    "K. Smith et al. find this histogram:\n",
    "\n",
    "<img width=250 src=https://iopscience.iop.org/0004-637X/857/2/141/downloadFigure/figure/apjaab88df9></img>\n"
   ]
  },
  {
   "cell_type": "markdown",
   "metadata": {},
   "source": [
    "The goal of this project is to find the power law slopes of AGN in K2 data."
   ]
  }
 ],
 "metadata": {
  "kernelspec": {
   "display_name": "Python 3",
   "language": "python",
   "name": "python3"
  },
  "language_info": {
   "codemirror_mode": {
    "name": "ipython",
    "version": 3
   },
   "file_extension": ".py",
   "mimetype": "text/x-python",
   "name": "python",
   "nbconvert_exporter": "python",
   "pygments_lexer": "ipython3",
   "version": "3.6.8"
  }
 },
 "nbformat": 4,
 "nbformat_minor": 2
}
